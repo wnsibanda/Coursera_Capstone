{
 "cells": [
  {
   "cell_type": "markdown",
   "metadata": {},
   "source": [
    "# Peer-graded Assignment: Capstone Project - The Battle of Neighborhoods (Week 1)"
   ]
  },
  {
   "cell_type": "markdown",
   "metadata": {},
   "source": [
    "#### This assignment is part one of the final capstone data science project. The problem statement that I am trying to solve is formulated below and also the data and sources of data that will be used are detailed in this assignment."
   ]
  },
  {
   "cell_type": "markdown",
   "metadata": {},
   "source": [
    "### A description of the problem and a discussion of the background"
   ]
  },
  {
   "cell_type": "markdown",
   "metadata": {},
   "source": [
    "Mark already owns a courier business, delivering documents and large parcels to homes in the boroughs of Toronto. Recently he has observed a rise in people preferring to buy organic food and fresh farm produce because more and more people are adopting conscious health lifestyle. He is now thinking of expanding his income stream by offering a service to people or restaurants that would like organic and fresh farm produce delivered directly to their door step. In so doing, Mark eliminates the time consuming necessity of people going to the market every day. He has talked to some farmers and they have agreed to sell their products at a discount price, provided that he is able to move a large volume of goods to market quickly. His potential clients are office workers, restaurants or individuals with a taste for organic food. Having saved some money, from his other business he is now looking for a borough/neighbourhood where he can build/rent a warehouse. The criteria for this borough/neighbourhood should be:\n",
    "1.\tThe population of people must be large enough so that he has a ready supply of customers.\n",
    "2.\tA reasonable number of restaurants that can potentially be his customers, e.g., more family themed restaurants instead of fast food outlets.\n",
    "3.\tAverage income of people must be high enough to be able to buy this type of food.\n",
    "4.\tRent or buying the warehouse should be in an ideal location that is not costly. \n"
   ]
  },
  {
   "cell_type": "markdown",
   "metadata": {},
   "source": [
    "### A description of the data and how it will be used to solve the problem"
   ]
  },
  {
   "cell_type": "markdown",
   "metadata": {},
   "source": [
    "1.\tGeospatial information about the borough and the neighborhoods in that borough will be needed. This will gives the exact locations of the neighborhoods within Toronto using latitude and longitude values. This information can be obtained by web scrapping data from the following Wikipedia pages:\n",
    "https://en.wikipedia.org/wiki/List_of_postal_codes_of_Canada:_M'\n"
   ]
  },
  {
   "cell_type": "markdown",
   "metadata": {},
   "source": [
    "2.\tWe will need data about different venues in different neighborhoods of each borough. I will be using Foursquare’s ‘Places API’ to acquire data related to ‘venues’ (as defined by Foursquare) categorized to be somehow associated with food. Foursquare defines a ‘venue’ as a place that one can go to, or check-in to. A venue can be any establishment such as a restaurant or type of retail shop. Each Foursquare ‘venue’ is assigned a ‘category’ and each ‘category’ is associated with a particular ‘categoryID’. The request below shows the ‘categoryID’ values provided by Foursquare that will be used to acquire food related venues within Toronto:\n"
   ]
  },
  {
   "cell_type": "code",
   "execution_count": null,
   "metadata": {},
   "outputs": [],
   "source": [
    "LIMIT = 100 \n",
    "\n",
    "radius = 500 \n",
    "\n",
    "   url = 'https://api.foursquare.com/v2/venues/explore?&client_id={}&client_secret={}&v={}&ll={},{}&radius={}&limit={}'.format(\n",
    "    CLIENT_ID, \n",
    "    CLIENT_SECRET, \n",
    "    VERSION, \n",
    "    neighborhood_latitude, \n",
    "    neighborhood_longitude, \n",
    "    radius, \n",
    "    LIMIT)\n",
    "\n",
    "   url # # display GET request URL\n",
    "\n",
    "results = requests.get(url).json()"
   ]
  },
  {
   "cell_type": "markdown",
   "metadata": {},
   "source": [
    "3.\tData about the demographics of each borough is also needed. This data can be scraped from the following Wikipedia page:\n",
    "https://en.wikipedia.org/wiki/Demographics_of_Toronto_neighbourhoods\n"
   ]
  },
  {
   "cell_type": "markdown",
   "metadata": {},
   "source": [
    "4. Also detailed data on the demographics of Toronto neighbourhoods is available from the website:\n",
    "https://www.toronto.ca/city-government/data-research-maps/neighbourhoods-communities/neighbourhood-profiles/\n"
   ]
  },
  {
   "cell_type": "code",
   "execution_count": null,
   "metadata": {},
   "outputs": [],
   "source": []
  }
 ],
 "metadata": {
  "kernelspec": {
   "display_name": "Python 3",
   "language": "python",
   "name": "python3"
  },
  "language_info": {
   "codemirror_mode": {
    "name": "ipython",
    "version": 3
   },
   "file_extension": ".py",
   "mimetype": "text/x-python",
   "name": "python",
   "nbconvert_exporter": "python",
   "pygments_lexer": "ipython3",
   "version": "3.7.3"
  }
 },
 "nbformat": 4,
 "nbformat_minor": 2
}
